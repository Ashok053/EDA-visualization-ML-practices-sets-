{
 "cells": [
  {
   "cell_type": "code",
   "execution_count": 29,
   "id": "49210391-719d-4770-8933-1df41e1b884b",
   "metadata": {},
   "outputs": [],
   "source": [
    "import numpy as np\n",
    "import pandas as pd\n",
    "import pickle"
   ]
  },
  {
   "cell_type": "code",
   "execution_count": 31,
   "id": "9e77fb94-6ef2-456e-83ad-4508f60661f6",
   "metadata": {},
   "outputs": [],
   "source": [
    "pipe = pickle.load(open('pipe.pkl','rb'))"
   ]
  },
  {
   "cell_type": "code",
   "execution_count": 35,
   "id": "1629a4e6-c1e0-46c8-bdf4-c9ffb5b7db21",
   "metadata": {},
   "outputs": [],
   "source": [
    "# Create a DataFrame with proper column names\n",
    "test_input_df = pd.DataFrame(\n",
    "    [[2, 'male', 31.0, 0, 0, 10.5, 'S']],\n",
    "    columns=['Pclass', 'Sex', 'Age', 'SibSp', 'Parch', 'Fare', 'Embarked']\n",
    ")\n",
    "prediction = pipe.predict(test_input_df)"
   ]
  },
  {
   "cell_type": "code",
   "execution_count": 41,
   "id": "26e39621-cf94-4906-ba0e-a1b54978abd5",
   "metadata": {},
   "outputs": [
    {
     "name": "stdout",
     "output_type": "stream",
     "text": [
      "[0]\n"
     ]
    }
   ],
   "source": []
  },
  {
   "cell_type": "code",
   "execution_count": null,
   "id": "b7fc97e8-0f76-4040-8d6a-9bd3846aee97",
   "metadata": {},
   "outputs": [],
   "source": []
  },
  {
   "cell_type": "code",
   "execution_count": null,
   "id": "48b95cb8-fbfe-4cac-bcfc-fc910cbf6fda",
   "metadata": {},
   "outputs": [],
   "source": []
  }
 ],
 "metadata": {
  "kernelspec": {
   "display_name": "Python 3 (ipykernel)",
   "language": "python",
   "name": "python3"
  },
  "language_info": {
   "codemirror_mode": {
    "name": "ipython",
    "version": 3
   },
   "file_extension": ".py",
   "mimetype": "text/x-python",
   "name": "python",
   "nbconvert_exporter": "python",
   "pygments_lexer": "ipython3",
   "version": "3.12.7"
  }
 },
 "nbformat": 4,
 "nbformat_minor": 5
}
