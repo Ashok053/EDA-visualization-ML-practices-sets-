{
 "cells": [
  {
   "cell_type": "markdown",
   "id": "19abf3fe-eab6-4724-8670-00f49f2c7d95",
   "metadata": {},
   "source": [
    "## Black friday dataset eda and feature engineering"
   ]
  },
  {
   "cell_type": "code",
   "execution_count": 4,
   "id": "e7a68a7b-0ee7-41e5-bd3d-54760fe5f5b3",
   "metadata": {},
   "outputs": [],
   "source": [
    "import pandas as pd\n",
    "import numpy as np\n",
    "import matplotlib.pyplot as plt\n",
    "import seaborn as sns\n",
    "%matplotlib inline"
   ]
  },
  {
   "cell_type": "code",
   "execution_count": null,
   "id": "4077b503-9c8a-4972-8eca-787503c98d2a",
   "metadata": {},
   "outputs": [],
   "source": []
  }
 ],
 "metadata": {
  "kernelspec": {
   "display_name": "Python 3 (ipykernel)",
   "language": "python",
   "name": "python3"
  },
  "language_info": {
   "codemirror_mode": {
    "name": "ipython",
    "version": 3
   },
   "file_extension": ".py",
   "mimetype": "text/x-python",
   "name": "python",
   "nbconvert_exporter": "python",
   "pygments_lexer": "ipython3",
   "version": "3.12.7"
  }
 },
 "nbformat": 4,
 "nbformat_minor": 5
}
